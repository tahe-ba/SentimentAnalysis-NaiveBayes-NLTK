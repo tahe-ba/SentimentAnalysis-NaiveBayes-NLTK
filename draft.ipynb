{
 "cells": [
  {
   "cell_type": "code",
   "execution_count": 4,
   "metadata": {},
   "outputs": [],
   "source": [
    "import numpy\n",
    "import pandas as pd\n",
    "import csv\n",
    "import time\n",
    "import random\n",
    "import string\n",
    "import pickle\n",
    "import nltk\n",
    "from nltk.corpus import stopwords\n",
    "from nltk.tokenize import word_tokenize\n",
    "from nltk import NaiveBayesClassifier\n",
    "from nltk import classify"
   ]
  },
  {
   "cell_type": "code",
   "execution_count": null,
   "metadata": {},
   "outputs": [],
   "source": [
    "#nltk.download('stopwords')\n",
    "#nltk.download('punkt')"
   ]
  },
  {
   "cell_type": "code",
   "execution_count": null,
   "metadata": {},
   "outputs": [],
   "source": [
    "# file path to the txt files\n",
    "data_path = './data/'\n",
    "\n",
    "# load csv files into pandas dataframes\n",
    "Custom_Header = [\"Sentence\", \"Sentiment\"]\n",
    "data_amazon = pd.read_csv(data_path+'amazon.txt', sep='\\t', quoting=csv.QUOTE_NONE,\n",
    "                          header=None, names=Custom_Header)\n",
    "data_imdb = pd.read_csv(data_path+'imdb.txt', sep='\\t', quoting=csv.QUOTE_NONE,\n",
    "                        header=None, names=Custom_Header)\n",
    "data_yelp = pd.read_csv(data_path+'yelp.txt', sep='\\t', quoting=csv.QUOTE_NONE,\n",
    "                        header=None, names=Custom_Header)\n",
    "\n",
    "# print(data_amazon.head())\n",
    "# print(data_imdb.head())\n",
    "# print(data_yelp.head())"
   ]
  },
  {
   "cell_type": "code",
   "execution_count": null,
   "metadata": {},
   "outputs": [],
   "source": [
    "# stop words are words that do not add much meaning to a sentence and can be removed\n",
    "stop_words = set(stopwords.words('english'))\n",
    "stop_words_array = stopwords.words('english')"
   ]
  },
  {
   "cell_type": "code",
   "execution_count": null,
   "metadata": {},
   "outputs": [],
   "source": [
    "# tokenize the sentences () into words and remove punctuation and stop words\n",
    "# tokenize the words from every dataset and store them in a list\n",
    "\n",
    "amazon_tokens = set(word.lower() for words in data_amazon['Sentence'] for word in word_tokenize(\n",
    "    words) if word.lower() not in stop_words_array and word.lower() not in string.punctuation)\n",
    "\n",
    "imdb_tokens = set(word.lower() for words in data_imdb['Sentence'] for word in word_tokenize(\n",
    "    words) if word.lower() not in stop_words_array and word.lower() not in string.punctuation)\n",
    "\n",
    "yelp_tokens = set(word.lower() for words in data_yelp['Sentence'] for word in word_tokenize(\n",
    "    words) if word.lower() not in stop_words_array and word.lower() not in string.punctuation)\n"
   ]
  },
  {
   "cell_type": "code",
   "execution_count": null,
   "metadata": {},
   "outputs": [],
   "source": [
    "# data_tokens are the unique words from all the data sets\n",
    "data_tokens = amazon_tokens.union(imdb_tokens).union(yelp_tokens)"
   ]
  },
  {
   "cell_type": "code",
   "execution_count": null,
   "metadata": {},
   "outputs": [],
   "source": [
    "amazon_train = [({word: (word in word_tokenize(data_amazon['Sentence'][i].lower()) and word.lower() not in stop_words_array)\n",
    "                  for word in amazon_tokens}, data_amazon['Sentiment'][i]) for i in range(0, len(data_amazon))]\n",
    "imdb_train = [({word: (word in word_tokenize(data_imdb['Sentence'][i].lower()) and word.lower() not in stop_words_array)\n",
    "                for word in imdb_tokens}, data_imdb['Sentiment'][i]) for i in range(0, len(data_imdb))]\n",
    "yelp_train = [({word: (word in word_tokenize(data_yelp['Sentence'][i].lower()) and word.lower() not in stop_words_array)\n",
    "                for word in yelp_tokens}, data_yelp['Sentiment'][i]) for i in range(0, len(data_yelp))]"
   ]
  },
  {
   "cell_type": "code",
   "execution_count": null,
   "metadata": {},
   "outputs": [],
   "source": [
    "# for bigger data set we merge the data sets together \n",
    "data_train = amazon_train + imdb_train + yelp_train"
   ]
  },
  {
   "cell_type": "code",
   "execution_count": null,
   "metadata": {},
   "outputs": [],
   "source": [
    "# FUNCTION to save the data_train to a pickle file\n",
    "def save_data_train(data_train, file_name):\n",
    "    with open(file_name, 'wb') as handle:\n",
    "        pickle.dump(data_train, handle, protocol=pickle.HIGHEST_PROTOCOL)\n"
   ]
  },
  {
   "cell_type": "code",
   "execution_count": null,
   "metadata": {},
   "outputs": [],
   "source": [
    "# load the data_train from the pickle file\n",
    "save_data_train(data_train,'data_train.pickle')"
   ]
  },
  {
   "cell_type": "code",
   "execution_count": null,
   "metadata": {},
   "outputs": [],
   "source": [
    "#FUNCTION to load the data_train from the pickle file\n",
    "def load_data_train(file_name):\n",
    "    with open(file_name, 'rb') as handle:\n",
    "        data_train = pickle.load(handle)\n",
    "    return data_train"
   ]
  },
  {
   "cell_type": "code",
   "execution_count": null,
   "metadata": {},
   "outputs": [],
   "source": [
    "# load the data_train from the pickle file\n",
    "data_train = load_data_train('data_train.pickle')"
   ]
  },
  {
   "cell_type": "code",
   "execution_count": null,
   "metadata": {},
   "outputs": [],
   "source": [
    "# shuffle the data_train to randomize the data\n",
    "random.shuffle(data_train)"
   ]
  },
  {
   "cell_type": "code",
   "execution_count": null,
   "metadata": {},
   "outputs": [],
   "source": [
    "# split the data_train into training and testing data\n",
    "data_train_x = data_train[:int(len(data_train)*0.8)]\n",
    "data_test_x = data_train[int(len(data_train)*0.8):]"
   ]
  },
  {
   "cell_type": "code",
   "execution_count": null,
   "metadata": {},
   "outputs": [],
   "source": [
    "# create model using NaiveBayesClassifier\n",
    "model = NaiveBayesClassifier.train(data_train_x)\n",
    "model.show_most_informative_features()"
   ]
  },
  {
   "cell_type": "code",
   "execution_count": null,
   "metadata": {},
   "outputs": [],
   "source": [
    "# compare the accuracy of the model to the test data\n",
    "acc = classify.accuracy(model, data_test_x)\n",
    "print(\"Accuracy:\", acc)"
   ]
  },
  {
   "cell_type": "code",
   "execution_count": null,
   "metadata": {},
   "outputs": [],
   "source": [
    "# FUNCTION to save the model\n",
    "def save_model(model, filename):\n",
    "    with open(filename, 'wb') as f:\n",
    "        pickle.dump(model, f)"
   ]
  },
  {
   "cell_type": "code",
   "execution_count": null,
   "metadata": {},
   "outputs": [],
   "source": [
    "# save the model\n",
    "save_model(model, 'model.pickle')\n"
   ]
  },
  {
   "cell_type": "code",
   "execution_count": 2,
   "metadata": {},
   "outputs": [],
   "source": [
    "# FUNICTION to load the model from disk\n",
    "def load_model(filename):\n",
    "    with open(filename, 'rb') as f:\n",
    "        return pickle.load(f)"
   ]
  },
  {
   "cell_type": "code",
   "execution_count": 5,
   "metadata": {},
   "outputs": [],
   "source": [
    "# load the model from pickle file\n",
    "newmodel = load_model('model.pickle')\n"
   ]
  },
  {
   "cell_type": "code",
   "execution_count": 6,
   "metadata": {},
   "outputs": [],
   "source": [
    "#FUNCTION to predict the sentiment of a sentence\n",
    "def predict(sentence):\n",
    "    return newmodel.classify(dict([token, True] for token in word_tokenize(sentence.lower())))"
   ]
  },
  {
   "cell_type": "code",
   "execution_count": 7,
   "metadata": {},
   "outputs": [
    {
     "name": "stdout",
     "output_type": "stream",
     "text": [
      "1\n",
      "0\n"
     ]
    }
   ],
   "source": [
    "# test the model\n",
    "test_sentence = \"I love this movie\"\n",
    "test_sentence2 = \"I hate this movie\"\n",
    "\n",
    "print(predict(test_sentence))\n",
    "print(predict(test_sentence2))\n"
   ]
  }
 ],
 "metadata": {
  "kernelspec": {
   "display_name": "Python 3.10.8 64-bit",
   "language": "python",
   "name": "python3"
  },
  "language_info": {
   "codemirror_mode": {
    "name": "ipython",
    "version": 3
   },
   "file_extension": ".py",
   "mimetype": "text/x-python",
   "name": "python",
   "nbconvert_exporter": "python",
   "pygments_lexer": "ipython3",
   "version": "3.10.8"
  },
  "orig_nbformat": 4,
  "vscode": {
   "interpreter": {
    "hash": "e7370f93d1d0cde622a1f8e1c04877d8463912d04d973331ad4851f04de6915a"
   }
  }
 },
 "nbformat": 4,
 "nbformat_minor": 2
}
