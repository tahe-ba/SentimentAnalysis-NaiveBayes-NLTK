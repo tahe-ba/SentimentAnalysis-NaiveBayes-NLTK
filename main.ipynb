{
 "cells": [
  {
   "cell_type": "code",
   "execution_count": 10,
   "metadata": {},
   "outputs": [],
   "source": [
    "import os\n",
    "import pickle\n",
    "from nltk import word_tokenize\n",
    "from nltk.corpus import stopwords\n",
    "from nltk import NaiveBayesClassifier\n",
    "from nltk import classify"
   ]
  },
  {
   "cell_type": "code",
   "execution_count": 11,
   "metadata": {},
   "outputs": [],
   "source": [
    "def load_data_train(file_name):\n",
    "    with open(file_name, 'rb') as handle:\n",
    "        data_train = pickle.load(handle)\n",
    "    return data_train"
   ]
  },
  {
   "cell_type": "code",
   "execution_count": 12,
   "metadata": {},
   "outputs": [],
   "source": [
    "if os.path.isfile('data_train.pickle'):\n",
    "    data_train = load_data_train('data_train.pickle')\n",
    "else:\n",
    "    print('File not found')"
   ]
  },
  {
   "cell_type": "code",
   "execution_count": 13,
   "metadata": {},
   "outputs": [],
   "source": [
    "data_train_x = data_train[:int(len(data_train)*0.8)]\n",
    "data_test_x = data_train[int(len(data_train)*0.8):]"
   ]
  },
  {
   "cell_type": "code",
   "execution_count": 14,
   "metadata": {},
   "outputs": [
    {
     "name": "stdout",
     "output_type": "stream",
     "text": [
      "Most Informative Features\n",
      "               excellent = True                1 : 0      =     29.2 : 1.0\n",
      "                     bad = True                0 : 1      =     22.1 : 1.0\n",
      "                   worst = True                0 : 1      =     21.1 : 1.0\n",
      "                   waste = True                0 : 1      =     20.4 : 1.0\n",
      "                terrible = True                0 : 1      =     16.3 : 1.0\n",
      "                   great = True                1 : 0      =     15.8 : 1.0\n",
      "                   works = True                1 : 0      =     13.3 : 1.0\n",
      "                    love = True                1 : 0      =     12.5 : 1.0\n",
      "                    fine = True                1 : 0      =     12.5 : 1.0\n",
      "                   awful = True                0 : 1      =     12.1 : 1.0\n"
     ]
    }
   ],
   "source": [
    "model = NaiveBayesClassifier.train(data_train_x)\n",
    "model.show_most_informative_features()\n"
   ]
  },
  {
   "cell_type": "code",
   "execution_count": 15,
   "metadata": {},
   "outputs": [
    {
     "name": "stdout",
     "output_type": "stream",
     "text": [
      "Accuracy: 0.46166666666666667\n"
     ]
    }
   ],
   "source": [
    "acc = classify.accuracy(model, data_test_x)\n",
    "print(\"Accuracy:\", acc)\n"
   ]
  },
  {
   "cell_type": "code",
   "execution_count": 16,
   "metadata": {},
   "outputs": [],
   "source": [
    "def predict(sentence):\n",
    "    return model.classify(dict([token, True] for token in word_tokenize(sentence.lower())))\n"
   ]
  },
  {
   "cell_type": "code",
   "execution_count": 17,
   "metadata": {},
   "outputs": [
    {
     "name": "stdout",
     "output_type": "stream",
     "text": [
      "0\n",
      "1\n"
     ]
    }
   ],
   "source": [
    "print(predict(\"it was the worst thig ever\"))\n",
    "print(predict(\"i had so much fun\"))"
   ]
  }
 ],
 "metadata": {
  "kernelspec": {
   "display_name": "Python 3.10.8 64-bit",
   "language": "python",
   "name": "python3"
  },
  "language_info": {
   "codemirror_mode": {
    "name": "ipython",
    "version": 3
   },
   "file_extension": ".py",
   "mimetype": "text/x-python",
   "name": "python",
   "nbconvert_exporter": "python",
   "pygments_lexer": "ipython3",
   "version": "3.10.8"
  },
  "orig_nbformat": 4,
  "vscode": {
   "interpreter": {
    "hash": "e7370f93d1d0cde622a1f8e1c04877d8463912d04d973331ad4851f04de6915a"
   }
  }
 },
 "nbformat": 4,
 "nbformat_minor": 2
}
